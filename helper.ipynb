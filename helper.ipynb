{
 "cells": [
  {
   "cell_type": "code",
   "execution_count": 1,
   "metadata": {},
   "outputs": [],
   "source": [
    "import datetime\n",
    "import os\n",
    "import webbrowser\n",
    "import pyautogui as pg\n",
    "import time\n",
    "import glob\n",
    "import shutil\n",
    "import random\n",
    "import pandas as pd\n",
    "from sqlalchemy import create_engine\n",
    "today = datetime.date.today()\n",
    "download_path = r\"C:\\Users\\810202558\\Downloads\"\n",
    "baseDownloadedDir = r'D:\\PROJECTS\\Appportal\\downloaded'"
   ]
  },
  {
   "cell_type": "code",
   "execution_count": null,
   "metadata": {},
   "outputs": [],
   "source": [
    "data_spm = pd.DataFrame()\n",
    "spm_files = glob.glob(r\"downloaded\\spm\\*.csv\")\n",
    "for csv_file in spm_files:\n",
    "    namefile = (csv_file.split(\"_\"))[1]\n",
    "    spm_temp = pd.read_csv(\n",
    "        csv_file,\n",
    "        dtype={\n",
    "            \"MASA PAJAK\": \"str\",\n",
    "            \"TANGGAL BAYAR\": \"str\",\n",
    "            \"NPWP\": \"str\",\n",
    "            \"KPP\": \"str\",\n",
    "            \"CABANG\": \"str\",\n",
    "        },\n",
    "    )\n",
    "    spm_temp[\"ADMIN\"] = namefile\n",
    "    data_spm = pd.concat([data_spm, spm_temp], axis=0, ignore_index=True)\n",
    "data_spm[\"MASA PAJAK2\"] = data_spm[\"MASA PAJAK\"].str[2:3]\n",
    "data_spm[\"MASA PAJAK\"] = data_spm[\"MASA PAJAK\"].str[:2]"
   ]
  },
  {
   "cell_type": "code",
   "execution_count": null,
   "metadata": {},
   "outputs": [],
   "source": [
    "data_spm.loc[data_spm[\"MASA PAJAK\"] == \"n\", \"MASA PAJAK\"]"
   ]
  },
  {
   "cell_type": "code",
   "execution_count": null,
   "metadata": {},
   "outputs": [],
   "source": [
    "def generate_month_list():\n",
    "    today = datetime.date.today()\n",
    "    current_month = today.month\n",
    "    months_list = [str(month).zfill(2) for month in range(1, current_month + 1)]\n",
    "    return months_list\n",
    "\n",
    "def create_folder(folder_name):\n",
    "    try:\n",
    "        os.mkdir(os.path.join('downloaded',folder_name))\n",
    "        print(f\"Folder '{folder_name}' created successfully.\")\n",
    "    except FileExistsError:\n",
    "        pass\n",
    "\n",
    "def delfiles(dir):\n",
    "    try:\n",
    "        for filename in os.listdir(dir):\n",
    "            file_path = os.path.join(dir, filename)\n",
    "            if os.path.isfile(file_path):\n",
    "                os.remove(file_path)\n",
    "    except Exception as e:\n",
    "        print(f\"Error: {e}\")\n",
    "\n",
    "def sorted_files(source_dir):\n",
    "    csv_files = glob.glob(os.path.join(source_dir,'*.csv'))\n",
    "    today_csv_files = []\n",
    "    for csv_file in csv_files:\n",
    "        stat = os.stat(csv_file)\n",
    "        file_date = datetime.date.fromtimestamp(stat.st_ctime)\n",
    "        if file_date == today:\n",
    "            today_csv_files.append(csv_file)\n",
    "    sorted_files = sorted(\n",
    "        today_csv_files, key=os.path.getctime, reverse=False)\n",
    "    return sorted_files\n",
    "\n",
    "def moving_files(sorted_files,val):\n",
    "    for filename in sorted_files:\n",
    "        namefile = filename.split(\"\\\\\")[-1]\n",
    "        dest_dir = os.path.join(baseDownloadedDir,val, namefile)\n",
    "        shutil.move(filename, dest_dir)"
   ]
  },
  {
   "cell_type": "markdown",
   "metadata": {},
   "source": [
    "# MPN "
   ]
  },
  {
   "cell_type": "code",
   "execution_count": null,
   "metadata": {},
   "outputs": [],
   "source": [
    "baseUrl = 'https://appportal.intranet.pajak.go.id/portal/download/lsnfjkasbnfjnasjkfnjbnjnjknbkjnfjknbjkfnbkjfnbi3939489184.php?p1='\n",
    "# kpp = ['001']\n",
    "kpp = ['001','002','003','004','005','006','007','008','009','097']\n",
    "tahun = '2023'\n",
    "jns_pajak = '411100000'\n",
    "tgl_awal = '01'\n",
    "tgl_akhir = '31'\n",
    "bulan = generate_month_list()\n",
    "# bulan = ['01']\n",
    "valuta = ['1','2','3']\n",
    "# valuta = ['3']"
   ]
  },
  {
   "cell_type": "code",
   "execution_count": null,
   "metadata": {},
   "outputs": [],
   "source": [
    "webbrowser.open('https://appportal.intranet.pajak.go.id/login/')\n",
    "time.sleep(2)\n",
    "pg.hotkey('tab')\n",
    "pg.typewrite('810202558', interval=0.1)\n",
    "pg.hotkey('tab')\n",
    "pg.typewrite('Gengsu!sh3r3', interval=0.1)\n",
    "pg.hotkey('enter')\n",
    "\n",
    "time.sleep(3)\n",
    "\n",
    "for val in valuta:\n",
    "    mpn_dir = os.path.join(baseDownloadedDir,val)\n",
    "    #bikin folder\n",
    "    if not os.path.exists(mpn_dir):\n",
    "         \n",
    "         os.makedirs(mpn_dir)\n",
    "    for adm in kpp:\n",
    "      for bln in bulan:\n",
    "               url = baseUrl+adm+tahun+jns_pajak+tgl_awal+tgl_akhir+bln+val\n",
    "               webbrowser.open_new_tab(url)\n",
    "               if val =='1':\n",
    "                   time.sleep(random.randint(2,8))\n",
    "               else:\n",
    "                   time.sleep(random.randint(1,3))   \n",
    "               \n",
    "\n",
    "    sorted_files = sorted_files(download_path)\n",
    "    num_files = len(kpp)*len(bulan) #per valuta\n",
    "    while len(sorted_files)<num_files:\n",
    "        time.sleep(10)\n",
    "        sorted_files = sorted_files(download_path)\n",
    "    \n",
    "    delfiles(mpn_dir)\n",
    "    moving_files(sorted_files, val)"
   ]
  },
  {
   "cell_type": "markdown",
   "metadata": {},
   "source": [
    "# MPN USD"
   ]
  },
  {
   "cell_type": "code",
   "execution_count": null,
   "metadata": {},
   "outputs": [],
   "source": [
    "url_usd = f'https://appportal.intranet.pajak.go.id/portal/detilperekaman/exportkpp.php?xunit=110&xtahun=2023&xbulan1=01&xbulan2={bulan[-1]}'\n",
    "webbrowser.open_new_tab(url_usd)\n",
    "time.sleep(3)\n",
    "shutil.move(os.path.join(download_path,'detildollar.xls'), r'D:\\PROJECTS\\Appportal\\downloaded\\2\\detildollar.xls')"
   ]
  },
  {
   "cell_type": "markdown",
   "metadata": {},
   "source": [
    "# SPM"
   ]
  },
  {
   "cell_type": "code",
   "execution_count": null,
   "metadata": {},
   "outputs": [],
   "source": [
    "baseUrl = 'https://appportal.intranet.pajak.go.id/portal/spm/dataspmcsv.php?'\n",
    "# kpp = ['001']\n",
    "kpp = ['001','002','003','004','005','006','007','008','009','097']\n",
    "tahun = '2023'\n",
    "tgl_awal = '01'\n",
    "tgl_akhir = '31'\n",
    "bulan = generate_month_list()\n",
    "# bulan = ['01']"
   ]
  },
  {
   "cell_type": "code",
   "execution_count": null,
   "metadata": {},
   "outputs": [],
   "source": [
    "ant = '&'\n",
    "for adm in kpp:\n",
    "    for bln in bulan:\n",
    "        url = baseUrl+'p1='+tgl_awal+ant+'p2='+tgl_akhir+ant+'p3='+bln+ant+'p4='+tahun+ant+'p5='+adm\n",
    "        webbrowser.open_new_tab(url)   \n",
    "        time.sleep(random.randint(1,3))\n",
    "    \n",
    "    spm_dir = os.path.join('D:\\PROJECTS\\Appportal\\downloaded','spm')\n",
    "    #bikin folder\n",
    "    if not os.path.exists(spm_dir):\n",
    "         os.makedirs(spm_dir)\n",
    "\n",
    "    sorted_files = sorted_files(download_path)\n",
    "    num_files = len(kpp)*len(bulan) #per valuta\n",
    "    while len(sorted_files)<num_files:\n",
    "        time.sleep(10)\n",
    "        sorted_files = sorted_files(download_path)\n",
    "    \n",
    "    delfiles(spm_dir)\n",
    "    moving_files(sorted_files, 'spm')"
   ]
  },
  {
   "cell_type": "markdown",
   "metadata": {},
   "source": [
    "# ETL"
   ]
  },
  {
   "cell_type": "code",
   "execution_count": null,
   "metadata": {},
   "outputs": [],
   "source": [
    "idr_files = glob.glob(r'downloaded\\1\\*.csv')\n",
    "usd_files = glob.glob(r'downloaded\\2\\*.csv')\n",
    "dolar_file = glob.glob(r'downloaded\\2\\*.xls')\n",
    "pbb_files = glob.glob(r'downloaded\\3\\*.csv')\n",
    "spm_files = glob.glob(r'downloaded\\spm\\*.csv')"
   ]
  },
  {
   "cell_type": "markdown",
   "metadata": {},
   "source": [
    "#### IDR"
   ]
  },
  {
   "cell_type": "code",
   "execution_count": null,
   "metadata": {},
   "outputs": [],
   "source": [
    "data_mpn = pd.DataFrame()\n",
    "for file in idr_files:\n",
    "    namefile = (file.split(\"\\\\\")[-1].split(\"_\")[-1])[:3]\n",
    "    temp = pd.read_csv(file, dtype={'NPWP': 'str', 'KPP': 'str', 'CAB': 'str','PTNTP':'str',\n",
    "                                            'PTMSPJ': 'str', 'TGLBYR': 'str', 'BLNBYR': 'str', 'THNBYR': 'str'})\n",
    "    temp['ADMIN'] = namefile\n",
    "    data_mpn = pd.concat([data_mpn, temp], axis=0, ignore_index=True)\n",
    "\n",
    "data_mpn.rename(columns={'THNBYR': 'TAHUNBAYAR',\n",
    "                    'BLNBYR': 'BULANBAYAR', 'TGLBYR': 'TANGGALBAYAR'}, inplace=True)\n",
    "data_mpn['DATEBAYAR'] = data_mpn['TAHUNBAYAR']+data_mpn['BULANBAYAR']+data_mpn['TANGGALBAYAR']\n",
    "data_mpn['DATEBAYAR'] = pd.to_datetime(data_mpn['DATEBAYAR'],format='%Y%m%d')\n",
    "data_mpn['MASA_PAJAK'] = data_mpn['PTMSPJ'].str[0:2]\n",
    "data_mpn['MASA_PAJAK2'] = data_mpn['PTMSPJ'].str[2:4]\n",
    "data_mpn['TAHUN_PAJAK'] = data_mpn['PTMSPJ'].str[4:]\n",
    "# data_mpn['DATEBAYAR'] = pd.to_datetime(data_mpn[['TANGGALBAYAR', 'BULANBAYAR', 'TAHUNBAYAR']])"
   ]
  },
  {
   "cell_type": "markdown",
   "metadata": {},
   "source": [
    "#### USD"
   ]
  },
  {
   "cell_type": "code",
   "execution_count": null,
   "metadata": {},
   "outputs": [],
   "source": [
    "data_usd = pd.DataFrame()\n",
    "for file in usd_files:\n",
    "  namefile = (file.split(\"\\\\\")[-1].split(\"_\")[-1])[:3]\n",
    "  temp = pd.read_csv(file, dtype={'NPWP': 'str', 'KPP': 'str', 'CAB': 'str','PTNTP':'str',\n",
    "                                    'PTMSPJ': 'str', 'TGLBYR': 'str', 'BLNBYR': 'str', 'THNBYR': 'str'})\n",
    "  data_usd['ADMIN'] = namefile\n",
    "  data_usd = pd.concat([data_usd, temp], axis=0, ignore_index=True)\n",
    "data_usd['NPWP'] = data_usd['NPWP'].str.strip()\n",
    "data_usd['KPP'] = data_usd['KPP'].str.strip()\n",
    "data_usd['CAB'] = data_usd['CAB'].str.strip()\n",
    "data_usd.rename(columns={'THNBYR': 'TAHUNBAYAR',\n",
    "                    'BLNBYR': 'BULANBAYAR', 'TGLBYR': 'TANGGALBAYAR'}, inplace=True)\n",
    "data_usd['MASA_PAJAK'] = data_usd['PTMSPJ'].str[0:2]\n",
    "data_usd['MASA_PAJAK2'] = data_usd['PTMSPJ'].str[2:4]\n",
    "data_usd['TAHUN_PAJAK'] = data_usd['PTMSPJ'].str[4:]\n",
    "data_usd['DATEBAYAR'] = data_usd['TAHUNBAYAR']+data_usd['BULANBAYAR']+data_usd['TANGGALBAYAR']\n",
    "data_usd['DATEBAYAR'] = pd.to_datetime(data_usd['DATEBAYAR'],format='%Y%m%d')"
   ]
  },
  {
   "cell_type": "code",
   "execution_count": null,
   "metadata": {},
   "outputs": [],
   "source": [
    "data_dollar = pd.read_excel(r'downloaded\\2\\detildollar.xls', engine='xlrd', usecols=['NTPN','JUMLAH RUPIAH'])"
   ]
  },
  {
   "cell_type": "code",
   "execution_count": null,
   "metadata": {},
   "outputs": [],
   "source": [
    "data_usd = data_usd.merge(data_dollar,left_on='PTNTP', right_on='NTPN', how='left')"
   ]
  },
  {
   "cell_type": "code",
   "execution_count": null,
   "metadata": {},
   "outputs": [],
   "source": [
    "data_usd = data_usd.drop(columns=['JUMLAH','NTPN'])\n",
    "data_usd = data_usd.rename(columns={'JUMLAH RUPIAH':'JUMLAH'})"
   ]
  },
  {
   "cell_type": "code",
   "execution_count": null,
   "metadata": {},
   "outputs": [],
   "source": [
    "data_mpnall = pd.concat([data_mpn,data_usd],axis=0,ignore_index=False)"
   ]
  },
  {
   "cell_type": "code",
   "execution_count": null,
   "metadata": {},
   "outputs": [],
   "source": [
    "data_mpnall[['NOP','KET']] = data_mpnall[['NOP','KET']].fillna('-')"
   ]
  },
  {
   "cell_type": "code",
   "execution_count": null,
   "metadata": {},
   "outputs": [],
   "source": [
    "data_mpnall.columns = [x.lower() for x in data_mpnall.columns]"
   ]
  },
  {
   "cell_type": "code",
   "execution_count": null,
   "metadata": {},
   "outputs": [],
   "source": [
    "data_mpnall = data_mpnall.rename(columns={'cab':'cabang','kjs':'kdbyar','masa_pajak':'masa','tahun_pajak':'tahun','jumlah':'nominal','ptntp':'ntpn',\n",
    " 'noskssp':'nosk','id':'billing','pembuat billing':'pembuat', 'masa_pajak2':'masa2'})\n",
    "data_mpnall['nospm'] = ''\n",
    "data_mpnall['source'] = 1\n",
    "data_mpnall['extra'] = ''\n",
    "data_mpnall['tipe'] = ''"
   ]
  },
  {
   "cell_type": "code",
   "execution_count": null,
   "metadata": {},
   "outputs": [],
   "source": [
    "data_mpnall = data_mpnall.rename(columns={'kdbyar':'kdbayar'})"
   ]
  },
  {
   "cell_type": "code",
   "execution_count": null,
   "metadata": {},
   "outputs": [],
   "source": [
    "data_mpnall = data_mpnall.drop(columns=['alamat','kd bank','kpp_penerima'])\n",
    "data_mpnall = data_mpnall[['admin', 'npwp', 'kpp', 'cabang', 'nama', 'kdmap', 'kdbayar', 'masa',\n",
    "       'tahun', 'tanggalbayar', 'bulanbayar', 'tahunbayar', 'datebayar',\n",
    "       'nominal', 'ntpn', 'bank', 'nosk', 'nospm', 'tipe', 'source', 'extra',\n",
    "       'billing', 'nop', 'pembuat', 'ket', 'masa2']]"
   ]
  },
  {
   "cell_type": "markdown",
   "metadata": {},
   "source": [
    "#### SPM"
   ]
  },
  {
   "cell_type": "code",
   "execution_count": null,
   "metadata": {},
   "outputs": [],
   "source": [
    "kpp = ['001','002','003','004','005','006','007','008','009','097']\n",
    "spm_files = 'downloaded\\spm'\n",
    "spm_files = sorted_files(spm_files)"
   ]
  },
  {
   "cell_type": "code",
   "execution_count": null,
   "metadata": {},
   "outputs": [],
   "source": [
    "spm_dir = os.path.join('D:\\PROJECTS\\Appportal\\downloaded','spm')\n"
   ]
  },
  {
   "cell_type": "code",
   "execution_count": null,
   "metadata": {},
   "outputs": [],
   "source": [
    "csv_files = glob.glob(os.path.join(download_path,'*.csv'))\n",
    "today_csv_files = []\n",
    "for csv_file in csv_files:\n",
    "    stat = os.stat(csv_file)\n",
    "    file_date = datetime.date.fromtimestamp(stat.st_ctime)\n",
    "    today_csv_files.append(csv_file)\n",
    "sorted_files = sorted(\n",
    "    today_csv_files, key=os.path.getctime, reverse=False)"
   ]
  },
  {
   "cell_type": "code",
   "execution_count": null,
   "metadata": {},
   "outputs": [],
   "source": [
    "kpp = [\"001\", \"002\", \"003\", \"004\", \"005\", \"006\", \"007\", \"008\", \"009\", \"097\"]\n",
    "tahun = \"2023\"\n",
    "jns_pajak = \"411100000\"\n",
    "tgl_awal = \"01\"\n",
    "tgl_akhir = \"31\"\n",
    "bulan = generate_month_list()\n",
    "# bulan = ['01']\n",
    "valuta = [\"1\", \"2\", \"3\"]\n",
    "spm_sorted = sorted_files(download_path)\n",
    "num_files = len(kpp) * len(bulan)  # per va luta\n",
    "while len(spm_sorted) < num_files:\n",
    "    time.sleep(10)\n",
    "    spm_sorted = sorted_files(download_path)\n"
   ]
  },
  {
   "cell_type": "code",
   "execution_count": null,
   "metadata": {},
   "outputs": [],
   "source": [
    "spm_downloaded = glob.glob(os.path.join(download_path, \"Data_SPM*.csv\"))"
   ]
  },
  {
   "cell_type": "code",
   "execution_count": null,
   "metadata": {},
   "outputs": [],
   "source": [
    "csv_files = glob.glob(os.path.join(download_path,'*.csv'))"
   ]
  },
  {
   "cell_type": "code",
   "execution_count": null,
   "metadata": {},
   "outputs": [],
   "source": [
    "x = csv_files[0].split(\"\\\\\")\n",
    "y = '\\\\'.join(a for a in x[:-1])"
   ]
  },
  {
   "cell_type": "code",
   "execution_count": null,
   "metadata": {},
   "outputs": [],
   "source": [
    "spm = pd.read_csv('downloaded\\spm\\SPM_001_01.csv',dtype={\n",
    "                \"MASA PAJAK\": \"str\",\n",
    "                \"TANGGAL BAYAR\": \"str\",\n",
    "                \"NPWP\": \"str\",\n",
    "                \"KPP\": \"str\",\n",
    "                \"CABANG\": \"str\",\n",
    "                \"NTPN\": \"str\",\n",
    "            },)"
   ]
  },
  {
   "cell_type": "code",
   "execution_count": null,
   "metadata": {},
   "outputs": [],
   "source": [
    "spmkp_files = glob.glob(r\"downloaded\\spmkp\\*.csv\")\n",
    "data_spmkp = pd.DataFrame()\n",
    "for file in spmkp_files:\n",
    "  namefile = namefile = (file.split(\"_\"))[1]\n",
    "  spmkp_temp = pd.read_csv(file, parse_dates=['TGL SPMKP'], dtype={'NPWP': 'str', 'KD MAP': 'str','NO SPMKP': 'str'})\n",
    "  spmkp_temp['ADMIN'] = namefile\n",
    "  data_spmkp = pd.concat([data_spmkp, spmkp_temp],axis=0, ignore_index=True)\n",
    "data_spmkp['ADMIN'] = data_spmkp['ADMIN'].str.replace('.csv','')\n",
    "data_spmkp.rename(columns={'TGL SPMKP':'TANGGAL','KD MAP':'KDMAP'},inplace=True)\n",
    "data_spmkp['KPP'] = data_spmkp['NPWP'].str[10:13]\n",
    "data_spmkp['CABANG'] = data_spmkp['NPWP'].str[14:]\n",
    "data_spmkp['NPWP'] = data_spmkp['NPWP'].str[:9]\n",
    "data_spmkp['BULAN'] = data_spmkp['TANGGAL'].dt.month\n",
    "data_spmkp['TAHUN'] = data_spmkp['TANGGAL'].dt.year\n",
    "data_spmkp['NOMINAL'] = data_spmkp['NILAI SPMKP'].str.replace(',', '').astype('int64')\n",
    "data_spmkp.columns = [x.lower() for x in data_spmkp.columns]\n",
    "spmkp_columns = ['admin','npwp','kpp','cabang','kdmap','bulan','tahun','tanggal','nominal']\n",
    "data_spmkp = data_spmkp[spmkp_columns]"
   ]
  },
  {
   "cell_type": "code",
   "execution_count": null,
   "metadata": {},
   "outputs": [],
   "source": [
    "pbk_files = glob.glob(r\"downloaded\\pbk\\*.csv\")\n",
    "data_pbk = pd.DataFrame()\n",
    "for file in pbk_files:\n",
    "  namefile = namefile = (file.split(\"_\"))[1]\n",
    "  pbk_temp = pd.read_csv(file, parse_dates=['TGL_DOKUMEN','TGL_BERLAKU'],\n",
    "                            dtype= {'NPWP':'str', 'KPP':'str', 'CAB':'str','KPPADM_LB':'str', 'NPWP.1':'str','KPP.1':'str',\n",
    "                                    'CAB.1':'str','MAP.1':'str','KD SETOR.1':'str','MAP':'str','MAP.1':'str','KD SETOR':'str',\n",
    "                                    'KPPADM_KB':'str'})\n",
    "  pbk_temp['ADMIN'] = namefile\n",
    "  data_pbk = pd.concat([data_pbk, pbk_temp], axis=0, ignore_index=True)\n",
    "data_pbk['JUMLAH_PBK']= data_pbk['JUMLAH_PBK'].str.replace(',','')\n",
    "data_pbk['JUMLAH_PBK'] = data_pbk['JUMLAH_PBK'].astype('int64')\n",
    "data_pbk['TGL_DOKUMEN'] = pd.to_datetime(data_pbk['TGL_DOKUMEN'], format='%Y%m%d')\n",
    "data_pbk['TAHUN'] = data_pbk['TGL_DOKUMEN'].dt.year\n",
    "\n",
    "data_pbk.rename(columns={'NOMOR_PBK':'NOPBK','TGL_DOKUMEN':'TANGGALDOC','TGL_BERLAKU':'TANGGALBERLAKU',\n",
    "                          'JUMLAH_PBK':'NOMINAL','CURRENCY_PBK':'CURRENCY','TIPE_PBK':'TIPE','FG_STATUS':'STATUS','NPWP':'NPWP','KPP':'KPP',\n",
    "                          'CAB':'CABANG','NAMA':'NAMA','MAP':'KDMAP','KD SETOR':'KDBAYAR','MASA PAJAK':'MASA_PAJAK','TAHUN PAJAK':'TAHUN_PAJAK',\n",
    "                          'KPPADM_LB':'KPP_ADMIN','NPWP.1':'NPWP2','KPP.1':'KPP2','CAB.1':'CABANG2','NAMA.1':'NAMA2','MAP.1':'KDMAP2',\n",
    "                          'KD SETOR.1':'KDBAYAR2','MASA PAJAK.1':'MASA_PAJAK2','TAHUN PAJAK.1':'TAHUN_PAJAK2','KPPADM_KB':'KPP_ADMIN2',\n",
    "                          'NTPN':'NTPN','NO PROD HUKUM':'NO_PROD_HUKUM'},inplace=True)\n",
    "\n",
    "data_pbk = data_pbk.filter(['ADMIN','TAHUN','NOPBK','TANGGALDOC','TANGGALBERLAKU','NOMINAL','CURRENCY','TIPE','STATUS',\n",
    "                            'NPWP','KPP','CABANG','NAMA','KDMAP','KDBAYAR','MASA_PAJAK','TAHUN_PAJAK','KPP_ADMIN','NPWP2','KPP2','CABANG2','NAMA2',\n",
    "                            'KDMAP2','KDBAYAR2','MASA_PAJAK2','TAHUN_PAJAK2','KPP_ADMIN2','NTPN','NO_PROD_HUKUM'])\n",
    "\n",
    "\n",
    "\n",
    "data_pbk['NO_PROD_HUKUM'].fillna('',inplace=True)\n",
    "colmap = {'masa_pajak':'masapajak','masa_pajak2':'masapajak2', 'tahun_pajak':'tahunpajak','tahun_bayar':'tahunbayar','bulan_bayar':'bulanbayar'}\n",
    "data_pbk.columns = [col.lower() for col in data_pbk.columns]\n",
    "data_pbk.rename(columns=colmap, inplace=True)\n",
    "\n",
    "data_pbk['tanggalbayar'] = data_pbk['tanggaldoc'].dt.day\n",
    "data_pbk['bulanbayar'] = data_pbk['tanggaldoc'].dt.month\n",
    "data_pbk['tahunbayar'] = data_pbk['tanggaldoc'].dt.year"
   ]
  },
  {
   "cell_type": "code",
   "execution_count": null,
   "metadata": {},
   "outputs": [],
   "source": [
    "from mpnspm import etl_mpn\n",
    "\n",
    "usd_files = glob.glob(r\"downloaded\\2\\*.csv\")\n",
    "data_usd = etl_mpn(usd_files)\n",
    "\n",
    "data_dollar = pd.read_excel(\n",
    "    r\"downloaded\\2\\detildollar.xls\",\n",
    "    engine=\"xlrd\",\n",
    "    usecols=[\"NTPN\", \"JUMLAH RUPIAH\"]\n",
    ")\n"
   ]
  },
  {
   "cell_type": "code",
   "execution_count": null,
   "metadata": {},
   "outputs": [],
   "source": [
    "data_usd = data_usd.merge(data_dollar, left_on=\"PTNTP\", right_on=\"NTPN\", how=\"left\")\n",
    "data_usd = data_usd.drop(columns=[\"JUMLAH\", \"NTPN\"])\n",
    "data_usd = data_usd.rename(columns={\"JUMLAH RUPIAH\": \"JUMLAH\"})"
   ]
  },
  {
   "cell_type": "code",
   "execution_count": null,
   "metadata": {},
   "outputs": [],
   "source": [
    "data_usd.pivot_table(index=['BULANBAYAR'], columns='ADMIN',aggfunc='sum' ).reset_index()"
   ]
  },
  {
   "cell_type": "code",
   "execution_count": null,
   "metadata": {},
   "outputs": [],
   "source": [
    "data_usd['JUMLAH'].sum()"
   ]
  },
  {
   "cell_type": "code",
   "execution_count": 2,
   "metadata": {},
   "outputs": [
    {
     "data": {
      "text/plain": [
       "1807"
      ]
     },
     "execution_count": 2,
     "metadata": {},
     "output_type": "execute_result"
    }
   ],
   "source": [
    "from sqlalchemy import create_engine\n",
    "mysql_con = create_engine(\"mysql://root@localhost/dimensi\")\n",
    "data = pd.read_parquet(\"D:\\DATA\\dim_klu.parquet\")\n",
    "data.to_sql('dim_klu', con=mysql_con, index=False, if_exists='replace')"
   ]
  },
  {
   "cell_type": "code",
   "execution_count": null,
   "metadata": {},
   "outputs": [],
   "source": [
    "mpn = mpn[['admin','nominal']]\n",
    "mpn.pivot_table(index='admin', aggfunc='sum').reset_index().to_excel(r'D:\\HASIL KUERI\\mpntojuli.xlsx')"
   ]
  },
  {
   "cell_type": "code",
   "execution_count": 4,
   "metadata": {},
   "outputs": [
    {
     "name": "stdout",
     "output_type": "stream",
     "text": [
      "*** No CODEPAGE record, no encoding_override: will use 'iso-8859-1'\n"
     ]
    }
   ],
   "source": [
    "from mpnspm import etl_mpnspm\n",
    "idr_files = glob.glob(r\"downloaded\\1\\*.csv\")\n",
    "usd_files = glob.glob(r\"downloaded\\2\\*.csv\")\n",
    "dolar_file = glob.glob(r\"downloaded\\2\\*.xls\")\n",
    "pbb_files = glob.glob(r\"downloaded\\3\\*.csv\")\n",
    "spm_files = glob.glob(r\"downloaded\\spm\\*.csv\")\n",
    "spmkp_files = glob.glob(r\"downloaded\\spmkp\\*.csv\")\n",
    "pbk_files = glob.glob(r\"downloaded\\pbk\\*.csv\")\n",
    "\n",
    "data_mpnspm = etl_mpnspm(idr_files, usd_files, dolar_file, pbb_files, spm_files)"
   ]
  },
  {
   "cell_type": "code",
   "execution_count": 21,
   "metadata": {},
   "outputs": [],
   "source": [
    "from mpnspm import etl_mpn\n",
    "usd_files = glob.glob(r\"downloaded\\2\\*.csv\")\n",
    "dolar_file = glob.glob(r\"downloaded\\2\\*.xls\")"
   ]
  },
  {
   "cell_type": "code",
   "execution_count": 32,
   "metadata": {},
   "outputs": [
    {
     "data": {
      "text/plain": [
       "Index(['NPWP', 'KPP', 'CAB', 'NAMA', 'KDMAP', 'KJS', 'PTNTP', 'PTMSPJ',\n",
       "       'TAHUNBAYAR', 'BULANBAYAR', 'TANGGALBAYAR', 'JUMLAH', 'BANK', 'NOSKSSP',\n",
       "       'ID', 'NOP', 'PEMBUAT BILLING', 'KET', 'ADMIN', 'DATEBAYAR',\n",
       "       'MASA_PAJAK', 'MASA_PAJAK2', 'TAHUN_PAJAK'],\n",
       "      dtype='object')"
      ]
     },
     "execution_count": 32,
     "metadata": {},
     "output_type": "execute_result"
    }
   ],
   "source": [
    "data_usd = etl_mpn(usd_files)\n",
    "data_usd.columns"
   ]
  },
  {
   "cell_type": "code",
   "execution_count": 79,
   "metadata": {},
   "outputs": [
    {
     "name": "stdout",
     "output_type": "stream",
     "text": [
      "*** No CODEPAGE record, no encoding_override: will use 'iso-8859-1'\n"
     ]
    }
   ],
   "source": [
    "data_dollar = pd.read_excel(\n",
    "    r\"downloaded\\2\\detildollar.xls\",\n",
    "    engine=\"xlrd\", dtype={'MASA':'str','NPWP':'str','KPP':'str','CAB':'str'}\n",
    ")"
   ]
  },
  {
   "cell_type": "code",
   "execution_count": 82,
   "metadata": {},
   "outputs": [
    {
     "data": {
      "text/plain": [
       "2602309763796.7803"
      ]
     },
     "execution_count": 82,
     "metadata": {},
     "output_type": "execute_result"
    }
   ],
   "source": [
    "data_dollar['JUMLAH RUPIAH'].sum()"
   ]
  },
  {
   "cell_type": "code",
   "execution_count": 71,
   "metadata": {},
   "outputs": [
    {
     "name": "stdout",
     "output_type": "stream",
     "text": [
      "*** No CODEPAGE record, no encoding_override: will use 'iso-8859-1'\n"
     ]
    }
   ],
   "source": [
    "\n",
    "masterfile_con = create_engine(\"mysql://root@localhost/registrasi\".format(\"sgwi2341\"))\n",
    "data_dollar = pd.read_excel(\n",
    "    r\"downloaded\\2\\detildollar.xls\",\n",
    "    engine=\"xlrd\", dtype={'MASA':'str','NPWP':'str','KPP':'str','CAB':'str'}\n",
    ")\n",
    "data_dollar['TANGGAL SETOR'] = pd.to_datetime(data_dollar['TANGGAL SETOR'], dayfirst=True)\n",
    "data_dollar['TAHUNBAYAR'] = data_dollar[\"TANGGAL SETOR\"].dt.year\n",
    "data_dollar['BULANBAYAR'] = data_dollar[\"TANGGAL SETOR\"].dt.month\n",
    "data_dollar['TANGGALBAYAR'] = data_dollar[\"TANGGAL SETOR\"].dt.day\n",
    "data_dollar['MASA_PAJAK'] = data_dollar['MASA'].str[:2]\n",
    "data_dollar['MASA_PAJAK2'] = data_dollar['MASA'].str[2:4]\n",
    "data_dollar['TAHUN_PAJAK'] = data_dollar['MASA'].str[4:]\n",
    "\n",
    "dollar_rename = {\n",
    "    \"NAMA WAJIB PAJAK\":'NAMA',\"MAP\":\"KDMAP\",\"KD.SETOR\":'KJS',\"JUMLAH BAYAR\":'JUMLAH',\"MASA\":\"PTMSPJ\",\"NTPN\":\"PTNTP\",\"TANGGAL SETOR\":\"DATEBAYAR\",\n",
    "    \"NO KETETAPAN\":\"NOSKSSP\"\n",
    "}\n",
    "data_dollar.rename(columns=dollar_rename, inplace=True)\n",
    "data_dollar['NPWP'] =  data_dollar['NPWP'].str.strip()\n",
    "data_dollar['NPWP15'] = data_dollar['NPWP']+data_dollar['KPP']+data_dollar['CAB']\n",
    "data_dollar['BANK'] = ''\n",
    "data_dollar['ID'] = ''\n",
    "data_dollar['NOP'] = ''\n",
    "data_dollar['PEMBUAT BILLING'] = ''\n",
    "data_dollar['KET'] = ''\n",
    "filter_npwp = \",\".join([f\"'{x.strip()}'\" for x in data_dollar['NPWP15'].unique()])\n",
    "# data_dollar = data_dollar[data_mpn.columns]\n",
    "\n",
    "mf_kueri = f'''select KPPADM,NPWP15 from registrasi.sidjp_masterfile where NPWP15 in({filter_npwp})'''\n",
    "mf = pd.read_sql(mf_kueri, con=masterfile_con)\n",
    "data_dollar = data_dollar.merge(mf, on='NPWP15', how='left')\n",
    "data_dollar.rename(columns={'KPPADM':'ADMIN'}, inplace=True)\n",
    "data_dollar.drop(columns=['NPWP15'], inplace=True)"
   ]
  },
  {
   "cell_type": "code",
   "execution_count": 72,
   "metadata": {},
   "outputs": [
    {
     "data": {
      "text/html": [
       "<div>\n",
       "<style scoped>\n",
       "    .dataframe tbody tr th:only-of-type {\n",
       "        vertical-align: middle;\n",
       "    }\n",
       "\n",
       "    .dataframe tbody tr th {\n",
       "        vertical-align: top;\n",
       "    }\n",
       "\n",
       "    .dataframe thead th {\n",
       "        text-align: right;\n",
       "    }\n",
       "</style>\n",
       "<table border=\"1\" class=\"dataframe\">\n",
       "  <thead>\n",
       "    <tr style=\"text-align: right;\">\n",
       "      <th></th>\n",
       "      <th>NO</th>\n",
       "      <th>NPWP</th>\n",
       "      <th>KPP</th>\n",
       "      <th>CAB</th>\n",
       "      <th>NAMA</th>\n",
       "      <th>KDMAP</th>\n",
       "      <th>KJS</th>\n",
       "      <th>JUMLAH</th>\n",
       "      <th>PTMSPJ</th>\n",
       "      <th>DATEBAYAR</th>\n",
       "      <th>...</th>\n",
       "      <th>TANGGALBAYAR</th>\n",
       "      <th>MASA_PAJAK</th>\n",
       "      <th>MASA_PAJAK2</th>\n",
       "      <th>TAHUN_PAJAK</th>\n",
       "      <th>BANK</th>\n",
       "      <th>ID</th>\n",
       "      <th>NOP</th>\n",
       "      <th>PEMBUAT BILLING</th>\n",
       "      <th>KET</th>\n",
       "      <th>ADMIN</th>\n",
       "    </tr>\n",
       "  </thead>\n",
       "  <tbody>\n",
       "    <tr>\n",
       "      <th>0</th>\n",
       "      <td>1</td>\n",
       "      <td>029066883</td>\n",
       "      <td>006</td>\n",
       "      <td>000</td>\n",
       "      <td>IPPOSHA INDONESIA</td>\n",
       "      <td>411126</td>\n",
       "      <td>100</td>\n",
       "      <td>8512.42</td>\n",
       "      <td>12122022</td>\n",
       "      <td>2023-01-10</td>\n",
       "      <td>...</td>\n",
       "      <td>10</td>\n",
       "      <td>12</td>\n",
       "      <td>12</td>\n",
       "      <td>2022</td>\n",
       "      <td></td>\n",
       "      <td></td>\n",
       "      <td></td>\n",
       "      <td></td>\n",
       "      <td></td>\n",
       "      <td>097</td>\n",
       "    </tr>\n",
       "    <tr>\n",
       "      <th>1</th>\n",
       "      <td>2</td>\n",
       "      <td>029066883</td>\n",
       "      <td>006</td>\n",
       "      <td>000</td>\n",
       "      <td>IPPOSHA INDONESIA</td>\n",
       "      <td>411126</td>\n",
       "      <td>100</td>\n",
       "      <td>8512.42</td>\n",
       "      <td>01012023</td>\n",
       "      <td>2023-02-13</td>\n",
       "      <td>...</td>\n",
       "      <td>13</td>\n",
       "      <td>01</td>\n",
       "      <td>01</td>\n",
       "      <td>2023</td>\n",
       "      <td></td>\n",
       "      <td></td>\n",
       "      <td></td>\n",
       "      <td></td>\n",
       "      <td></td>\n",
       "      <td>097</td>\n",
       "    </tr>\n",
       "    <tr>\n",
       "      <th>2</th>\n",
       "      <td>3</td>\n",
       "      <td>029066883</td>\n",
       "      <td>006</td>\n",
       "      <td>000</td>\n",
       "      <td>IPPOSHA INDONESIA</td>\n",
       "      <td>411126</td>\n",
       "      <td>100</td>\n",
       "      <td>8512.42</td>\n",
       "      <td>02022023</td>\n",
       "      <td>2023-03-10</td>\n",
       "      <td>...</td>\n",
       "      <td>10</td>\n",
       "      <td>02</td>\n",
       "      <td>02</td>\n",
       "      <td>2023</td>\n",
       "      <td></td>\n",
       "      <td></td>\n",
       "      <td></td>\n",
       "      <td></td>\n",
       "      <td></td>\n",
       "      <td>097</td>\n",
       "    </tr>\n",
       "    <tr>\n",
       "      <th>3</th>\n",
       "      <td>4</td>\n",
       "      <td>029066883</td>\n",
       "      <td>006</td>\n",
       "      <td>000</td>\n",
       "      <td>IPPOSHA INDONESIA</td>\n",
       "      <td>411126</td>\n",
       "      <td>100</td>\n",
       "      <td>8512.42</td>\n",
       "      <td>03032023</td>\n",
       "      <td>2023-04-10</td>\n",
       "      <td>...</td>\n",
       "      <td>10</td>\n",
       "      <td>03</td>\n",
       "      <td>03</td>\n",
       "      <td>2023</td>\n",
       "      <td></td>\n",
       "      <td></td>\n",
       "      <td></td>\n",
       "      <td></td>\n",
       "      <td></td>\n",
       "      <td>097</td>\n",
       "    </tr>\n",
       "    <tr>\n",
       "      <th>4</th>\n",
       "      <td>5</td>\n",
       "      <td>029066883</td>\n",
       "      <td>006</td>\n",
       "      <td>000</td>\n",
       "      <td>IPPOSHA INDONESIA</td>\n",
       "      <td>411126</td>\n",
       "      <td>100</td>\n",
       "      <td>4158.00</td>\n",
       "      <td>04042023</td>\n",
       "      <td>2023-05-10</td>\n",
       "      <td>...</td>\n",
       "      <td>10</td>\n",
       "      <td>04</td>\n",
       "      <td>04</td>\n",
       "      <td>2023</td>\n",
       "      <td></td>\n",
       "      <td></td>\n",
       "      <td></td>\n",
       "      <td></td>\n",
       "      <td></td>\n",
       "      <td>097</td>\n",
       "    </tr>\n",
       "  </tbody>\n",
       "</table>\n",
       "<p>5 rows × 29 columns</p>\n",
       "</div>"
      ],
      "text/plain": [
       "   NO       NPWP  KPP  CAB               NAMA   KDMAP  KJS   JUMLAH    PTMSPJ  \\\n",
       "0   1  029066883  006  000  IPPOSHA INDONESIA  411126  100  8512.42  12122022   \n",
       "1   2  029066883  006  000  IPPOSHA INDONESIA  411126  100  8512.42  01012023   \n",
       "2   3  029066883  006  000  IPPOSHA INDONESIA  411126  100  8512.42  02022023   \n",
       "3   4  029066883  006  000  IPPOSHA INDONESIA  411126  100  8512.42  03032023   \n",
       "4   5  029066883  006  000  IPPOSHA INDONESIA  411126  100  4158.00  04042023   \n",
       "\n",
       "   DATEBAYAR  ...  TANGGALBAYAR  MASA_PAJAK  MASA_PAJAK2  TAHUN_PAJAK BANK ID  \\\n",
       "0 2023-01-10  ...            10          12           12         2022           \n",
       "1 2023-02-13  ...            13          01           01         2023           \n",
       "2 2023-03-10  ...            10          02           02         2023           \n",
       "3 2023-04-10  ...            10          03           03         2023           \n",
       "4 2023-05-10  ...            10          04           04         2023           \n",
       "\n",
       "   NOP  PEMBUAT BILLING  KET  ADMIN  \n",
       "0                               097  \n",
       "1                               097  \n",
       "2                               097  \n",
       "3                               097  \n",
       "4                               097  \n",
       "\n",
       "[5 rows x 29 columns]"
      ]
     },
     "execution_count": 72,
     "metadata": {},
     "output_type": "execute_result"
    }
   ],
   "source": [
    "data_dollar.head()"
   ]
  },
  {
   "cell_type": "code",
   "execution_count": 73,
   "metadata": {},
   "outputs": [
    {
     "data": {
      "text/plain": [
       "174220021.37"
      ]
     },
     "execution_count": 73,
     "metadata": {},
     "output_type": "execute_result"
    }
   ],
   "source": [
    "data_dollar['JUMLAH'].sum()"
   ]
  },
  {
   "cell_type": "code",
   "execution_count": 18,
   "metadata": {},
   "outputs": [
    {
     "name": "stdout",
     "output_type": "stream",
     "text": [
      "<class 'pandas.core.frame.DataFrame'>\n",
      "RangeIndex: 29 entries, 0 to 28\n",
      "Data columns (total 28 columns):\n",
      " #   Column           Non-Null Count  Dtype         \n",
      "---  ------           --------------  -----         \n",
      " 0   NO               29 non-null     int64         \n",
      " 1   NPWP             29 non-null     object        \n",
      " 2   KPP              29 non-null     object        \n",
      " 3   CAB              29 non-null     object        \n",
      " 4   NAMA             29 non-null     object        \n",
      " 5   KDMAP            29 non-null     int64         \n",
      " 6   KJS              29 non-null     int64         \n",
      " 7   JUMLAH           29 non-null     float64       \n",
      " 8   PTMSPJ           29 non-null     object        \n",
      " 9   DATEBAYAR        29 non-null     datetime64[ns]\n",
      " 10  TANGGAL REKAM    0 non-null      float64       \n",
      " 11  TANGGAL KURS     29 non-null     int64         \n",
      " 12  KURS TENGAH BI   29 non-null     int64         \n",
      " 13  JUMLAH RUPIAH    29 non-null     float64       \n",
      " 14  SUMBER           29 non-null     object        \n",
      " 15  PTNTP            29 non-null     object        \n",
      " 16  NOSKSSP          29 non-null     int64         \n",
      " 17  TAHUNBAYAR       29 non-null     int64         \n",
      " 18  BULANBAYAR       29 non-null     int64         \n",
      " 19  TANGGALBAYAR     29 non-null     int64         \n",
      " 20  MASA_PAJAK       29 non-null     object        \n",
      " 21  MASA_PAJAK2      29 non-null     object        \n",
      " 22  TAHUN_PAJAK      29 non-null     object        \n",
      " 23  BANK             29 non-null     object        \n",
      " 24  ID               29 non-null     object        \n",
      " 25  NOP              29 non-null     object        \n",
      " 26  PEMBUAT BILLING  29 non-null     object        \n",
      " 27  KET              29 non-null     object        \n",
      "dtypes: datetime64[ns](1), float64(3), int64(9), object(15)\n",
      "memory usage: 6.5+ KB\n"
     ]
    }
   ],
   "source": [
    "data_dollar.info()"
   ]
  },
  {
   "cell_type": "code",
   "execution_count": 14,
   "metadata": {},
   "outputs": [
    {
     "data": {
      "text/plain": [
       "0     12122022\n",
       "1      1012023\n",
       "2      2022023\n",
       "3      3032023\n",
       "4      4042023\n",
       "5      5052023\n",
       "6      6062023\n",
       "7      4042023\n",
       "8      5052023\n",
       "9      6062023\n",
       "10     1122022\n",
       "11    12122022\n",
       "12     1012023\n",
       "13     2022023\n",
       "14     3032023\n",
       "15     4042023\n",
       "16     5052023\n",
       "17     6062023\n",
       "18        2022\n",
       "19     1122018\n",
       "20    12122022\n",
       "21     1012023\n",
       "22     2022023\n",
       "23     3032023\n",
       "24     4042023\n",
       "25     5052023\n",
       "26     6062023\n",
       "27     1122022\n",
       "28     1122022\n",
       "Name: PTMSPJ, dtype: int64"
      ]
     },
     "execution_count": 14,
     "metadata": {},
     "output_type": "execute_result"
    }
   ],
   "source": [
    "data_dollar['PTMSPJ']"
   ]
  },
  {
   "cell_type": "code",
   "execution_count": null,
   "metadata": {},
   "outputs": [],
   "source": []
  }
 ],
 "metadata": {
  "kernelspec": {
   "display_name": "Python 3 (ipykernel)",
   "language": "python",
   "name": "python3"
  },
  "language_info": {
   "codemirror_mode": {
    "name": "ipython",
    "version": 3
   },
   "file_extension": ".py",
   "mimetype": "text/x-python",
   "name": "python",
   "nbconvert_exporter": "python",
   "pygments_lexer": "ipython3",
   "version": "3.10.9"
  }
 },
 "nbformat": 4,
 "nbformat_minor": 4
}
