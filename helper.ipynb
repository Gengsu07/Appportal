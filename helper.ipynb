{
 "cells": [
  {
   "cell_type": "code",
   "execution_count": 50,
   "metadata": {},
   "outputs": [],
   "source": [
    "import datetime\n",
    "import os\n",
    "import webbrowser\n",
    "import pyautogui as pg\n",
    "import time\n",
    "import glob\n",
    "import shutil\n",
    "import random\n",
    "import pandas as pd\n",
    "today = datetime.date.today()\n",
    "download_path = r\"C:\\Users\\810202558\\Downloads\"\n",
    "baseDownloadedDir = r'D:\\PROJECTS\\Appportal\\downloaded'"
   ]
  },
  {
   "cell_type": "code",
   "execution_count": 51,
   "metadata": {},
   "outputs": [],
   "source": [
    "def generate_month_list():\n",
    "    today = datetime.date.today()\n",
    "    current_month = today.month\n",
    "    months_list = [str(month).zfill(2) for month in range(1, current_month + 1)]\n",
    "    return months_list\n",
    "\n",
    "def create_folder(folder_name):\n",
    "    try:\n",
    "        os.mkdir(os.path.join('downloaded',folder_name))\n",
    "        print(f\"Folder '{folder_name}' created successfully.\")\n",
    "    except FileExistsError:\n",
    "        pass\n",
    "\n",
    "def delfiles(dir):\n",
    "    try:\n",
    "        for filename in os.listdir(dir):\n",
    "            file_path = os.path.join(dir, filename)\n",
    "            if os.path.isfile(file_path):\n",
    "                os.remove(file_path)\n",
    "    except Exception as e:\n",
    "        print(f\"Error: {e}\")\n",
    "\n",
    "def sorted_files(source_dir):\n",
    "    csv_files = glob.glob(os.path.join(source_dir,'*.csv'))\n",
    "    today_csv_files = []\n",
    "    for csv_file in csv_files:\n",
    "        stat = os.stat(csv_file)\n",
    "        file_date = datetime.date.fromtimestamp(stat.st_ctime)\n",
    "        if file_date == today:\n",
    "            today_csv_files.append(csv_file)\n",
    "    sorted_files = sorted(\n",
    "        today_csv_files, key=os.path.getctime, reverse=False)\n",
    "    return sorted_files\n",
    "\n",
    "def moving_files(sorted_files,val):\n",
    "    for filename in sorted_files:\n",
    "        namefile = filename.split(\"\\\\\")[-1]\n",
    "        dest_dir = os.path.join(baseDownloadedDir,val, namefile)\n",
    "        shutil.move(filename, dest_dir)"
   ]
  },
  {
   "cell_type": "markdown",
   "metadata": {},
   "source": [
    "# MPN "
   ]
  },
  {
   "cell_type": "code",
   "execution_count": null,
   "metadata": {},
   "outputs": [],
   "source": [
    "baseUrl = 'https://appportal.intranet.pajak.go.id/portal/download/lsnfjkasbnfjnasjkfnjbnjnjknbkjnfjknbjkfnbkjfnbi3939489184.php?p1='\n",
    "# kpp = ['001']\n",
    "kpp = ['001','002','003','004','005','006','007','008','009','097']\n",
    "tahun = '2023'\n",
    "jns_pajak = '411100000'\n",
    "tgl_awal = '01'\n",
    "tgl_akhir = '31'\n",
    "bulan = generate_month_list()\n",
    "# bulan = ['01']\n",
    "valuta = ['1','2','3']\n",
    "# valuta = ['3']"
   ]
  },
  {
   "cell_type": "code",
   "execution_count": null,
   "metadata": {},
   "outputs": [],
   "source": [
    "webbrowser.open('https://appportal.intranet.pajak.go.id/login/')\n",
    "time.sleep(2)\n",
    "pg.hotkey('tab')\n",
    "pg.typewrite('810202558', interval=0.1)\n",
    "pg.hotkey('tab')\n",
    "pg.typewrite('Gengsu!sh3r3', interval=0.1)\n",
    "pg.hotkey('enter')\n",
    "\n",
    "time.sleep(3)\n",
    "\n",
    "for val in valuta:\n",
    "    mpn_dir = os.path.join(baseDownloadedDir,val)\n",
    "    #bikin folder\n",
    "    if not os.path.exists(mpn_dir):\n",
    "         \n",
    "         os.makedirs(mpn_dir)\n",
    "    for adm in kpp:\n",
    "      for bln in bulan:\n",
    "               url = baseUrl+adm+tahun+jns_pajak+tgl_awal+tgl_akhir+bln+val\n",
    "               webbrowser.open_new_tab(url)\n",
    "               if val =='1':\n",
    "                   time.sleep(random.randint(2,8))\n",
    "               else:\n",
    "                   time.sleep(random.randint(1,3))   \n",
    "               \n",
    "\n",
    "    sorted_files = sorted_files(download_path)\n",
    "    num_files = len(kpp)*len(bulan) #per valuta\n",
    "    while len(sorted_files)<num_files:\n",
    "        time.sleep(10)\n",
    "        sorted_files = sorted_files(download_path)\n",
    "    \n",
    "    delfiles(mpn_dir)\n",
    "    moving_files(sorted_files, val)"
   ]
  },
  {
   "cell_type": "markdown",
   "metadata": {},
   "source": [
    "# MPN USD"
   ]
  },
  {
   "cell_type": "code",
   "execution_count": null,
   "metadata": {},
   "outputs": [],
   "source": [
    "url_usd = f'https://appportal.intranet.pajak.go.id/portal/detilperekaman/exportkpp.php?xunit=110&xtahun=2023&xbulan1=01&xbulan2={bulan[-1]}'\n",
    "webbrowser.open_new_tab(url_usd)\n",
    "time.sleep(3)\n",
    "shutil.move(os.path.join(download_path,'detildollar.xls'), r'D:\\PROJECTS\\Appportal\\downloaded\\2\\detildollar.xls')"
   ]
  },
  {
   "cell_type": "markdown",
   "metadata": {},
   "source": [
    "# SPM"
   ]
  },
  {
   "cell_type": "code",
   "execution_count": null,
   "metadata": {},
   "outputs": [],
   "source": [
    "baseUrl = 'https://appportal.intranet.pajak.go.id/portal/spm/dataspmcsv.php?'\n",
    "# kpp = ['001']\n",
    "kpp = ['001','002','003','004','005','006','007','008','009','097']\n",
    "tahun = '2023'\n",
    "tgl_awal = '01'\n",
    "tgl_akhir = '31'\n",
    "bulan = generate_month_list()\n",
    "# bulan = ['01']"
   ]
  },
  {
   "cell_type": "code",
   "execution_count": null,
   "metadata": {},
   "outputs": [],
   "source": [
    "ant = '&'\n",
    "for adm in kpp:\n",
    "    for bln in bulan:\n",
    "        url = baseUrl+'p1='+tgl_awal+ant+'p2='+tgl_akhir+ant+'p3='+bln+ant+'p4='+tahun+ant+'p5='+adm\n",
    "        webbrowser.open_new_tab(url)   \n",
    "        time.sleep(random.randint(1,3))\n",
    "    \n",
    "    spm_dir = os.path.join('D:\\PROJECTS\\Appportal\\downloaded','spm')\n",
    "    #bikin folder\n",
    "    if not os.path.exists(spm_dir):\n",
    "         os.makedirs(spm_dir)\n",
    "\n",
    "    sorted_files = sorted_files(download_path)\n",
    "    num_files = len(kpp)*len(bulan) #per valuta\n",
    "    while len(sorted_files)<num_files:\n",
    "        time.sleep(10)\n",
    "        sorted_files = sorted_files(download_path)\n",
    "    \n",
    "    delfiles(spm_dir)\n",
    "    moving_files(sorted_files, 'spm')"
   ]
  },
  {
   "cell_type": "markdown",
   "metadata": {},
   "source": [
    "# ETL"
   ]
  },
  {
   "cell_type": "code",
   "execution_count": 16,
   "metadata": {},
   "outputs": [],
   "source": [
    "idr_files = glob.glob(r'downloaded\\1\\*.csv')\n",
    "usd_files = glob.glob(r'downloaded\\2\\*.csv')\n",
    "dolar_file = glob.glob(r'downloaded\\2\\*.xls')\n",
    "pbb_files = glob.glob(r'downloaded\\3\\*.csv')\n",
    "spm_files = glob.glob(r'downloaded\\spm\\*.csv')"
   ]
  },
  {
   "cell_type": "markdown",
   "metadata": {},
   "source": [
    "#### IDR"
   ]
  },
  {
   "cell_type": "code",
   "execution_count": 4,
   "metadata": {},
   "outputs": [],
   "source": [
    "data_mpn = pd.DataFrame()\n",
    "for file in idr_files:\n",
    "    namefile = (file.split(\"\\\\\")[-1].split(\"_\")[-1])[:3]\n",
    "    temp = pd.read_csv(file, dtype={'NPWP': 'str', 'KPP': 'str', 'CAB': 'str','PTNTP':'str',\n",
    "                                            'PTMSPJ': 'str', 'TGLBYR': 'str', 'BLNBYR': 'str', 'THNBYR': 'str'})\n",
    "    temp['ADMIN'] = namefile\n",
    "    data_mpn = pd.concat([data_mpn, temp], axis=0, ignore_index=True)\n",
    "\n",
    "data_mpn.rename(columns={'THNBYR': 'TAHUNBAYAR',\n",
    "                    'BLNBYR': 'BULANBAYAR', 'TGLBYR': 'TANGGALBAYAR'}, inplace=True)\n",
    "data_mpn['DATEBAYAR'] = data_mpn['TAHUNBAYAR']+data_mpn['BULANBAYAR']+data_mpn['TANGGALBAYAR']\n",
    "data_mpn['DATEBAYAR'] = pd.to_datetime(data_mpn['DATEBAYAR'],format='%Y%m%d')\n",
    "data_mpn['MASA_PAJAK'] = data_mpn['PTMSPJ'].str[0:2]\n",
    "data_mpn['MASA_PAJAK2'] = data_mpn['PTMSPJ'].str[2:4]\n",
    "data_mpn['TAHUN_PAJAK'] = data_mpn['PTMSPJ'].str[4:]\n",
    "# data_mpn['DATEBAYAR'] = pd.to_datetime(data_mpn[['TANGGALBAYAR', 'BULANBAYAR', 'TAHUNBAYAR']])"
   ]
  },
  {
   "cell_type": "markdown",
   "metadata": {},
   "source": [
    "#### USD"
   ]
  },
  {
   "cell_type": "code",
   "execution_count": 5,
   "metadata": {},
   "outputs": [],
   "source": [
    "data_usd = pd.DataFrame()\n",
    "for file in usd_files:\n",
    "  namefile = (file.split(\"\\\\\")[-1].split(\"_\")[-1])[:3]\n",
    "  temp = pd.read_csv(file, dtype={'NPWP': 'str', 'KPP': 'str', 'CAB': 'str','PTNTP':'str',\n",
    "                                    'PTMSPJ': 'str', 'TGLBYR': 'str', 'BLNBYR': 'str', 'THNBYR': 'str'})\n",
    "  data_usd['ADMIN'] = namefile\n",
    "  data_usd = pd.concat([data_usd, temp], axis=0, ignore_index=True)\n",
    "data_usd['NPWP'] = data_usd['NPWP'].str.strip()\n",
    "data_usd['KPP'] = data_usd['KPP'].str.strip()\n",
    "data_usd['CAB'] = data_usd['CAB'].str.strip()\n",
    "data_usd.rename(columns={'THNBYR': 'TAHUNBAYAR',\n",
    "                    'BLNBYR': 'BULANBAYAR', 'TGLBYR': 'TANGGALBAYAR'}, inplace=True)\n",
    "data_usd['MASA_PAJAK'] = data_usd['PTMSPJ'].str[0:2]\n",
    "data_usd['MASA_PAJAK2'] = data_usd['PTMSPJ'].str[2:4]\n",
    "data_usd['TAHUN_PAJAK'] = data_usd['PTMSPJ'].str[4:]\n",
    "data_usd['DATEBAYAR'] = data_usd['TAHUNBAYAR']+data_usd['BULANBAYAR']+data_usd['TANGGALBAYAR']\n",
    "data_usd['DATEBAYAR'] = pd.to_datetime(data_usd['DATEBAYAR'],format='%Y%m%d')"
   ]
  },
  {
   "cell_type": "code",
   "execution_count": 6,
   "metadata": {},
   "outputs": [
    {
     "name": "stdout",
     "output_type": "stream",
     "text": [
      "*** No CODEPAGE record, no encoding_override: will use 'iso-8859-1'\n"
     ]
    }
   ],
   "source": [
    "data_dollar = pd.read_excel(r'downloaded\\2\\detildollar.xls', engine='xlrd', usecols=['NTPN','JUMLAH RUPIAH'])"
   ]
  },
  {
   "cell_type": "code",
   "execution_count": 7,
   "metadata": {},
   "outputs": [],
   "source": [
    "data_usd = data_usd.merge(data_dollar,left_on='PTNTP', right_on='NTPN', how='left')"
   ]
  },
  {
   "cell_type": "code",
   "execution_count": 8,
   "metadata": {},
   "outputs": [],
   "source": [
    "data_usd = data_usd.drop(columns=['JUMLAH','NTPN'])\n",
    "data_usd = data_usd.rename(columns={'JUMLAH RUPIAH':'JUMLAH'})"
   ]
  },
  {
   "cell_type": "code",
   "execution_count": 9,
   "metadata": {},
   "outputs": [],
   "source": [
    "data_mpnall = pd.concat([data_mpn,data_usd],axis=0,ignore_index=False)"
   ]
  },
  {
   "cell_type": "code",
   "execution_count": 10,
   "metadata": {},
   "outputs": [],
   "source": [
    "data_mpnall[['NOP','KET']] = data_mpnall[['NOP','KET']].fillna('-')"
   ]
  },
  {
   "cell_type": "code",
   "execution_count": 11,
   "metadata": {},
   "outputs": [],
   "source": [
    "data_mpnall.columns = [x.lower() for x in data_mpnall.columns]"
   ]
  },
  {
   "cell_type": "code",
   "execution_count": 12,
   "metadata": {},
   "outputs": [],
   "source": [
    "data_mpnall = data_mpnall.rename(columns={'cab':'cabang','kjs':'kdbyar','masa_pajak':'masa','tahun_pajak':'tahun','jumlah':'nominal','ptntp':'ntpn',\n",
    " 'noskssp':'nosk','id':'billing','pembuat billing':'pembuat', 'masa_pajak2':'masa2'})\n",
    "data_mpnall['nospm'] = ''\n",
    "data_mpnall['source'] = 1\n",
    "data_mpnall['extra'] = ''\n",
    "data_mpnall['tipe'] = ''"
   ]
  },
  {
   "cell_type": "code",
   "execution_count": 13,
   "metadata": {},
   "outputs": [],
   "source": [
    "data_mpnall = data_mpnall.rename(columns={'kdbyar':'kdbayar'})"
   ]
  },
  {
   "cell_type": "code",
   "execution_count": 14,
   "metadata": {},
   "outputs": [],
   "source": [
    "data_mpnall = data_mpnall.drop(columns=['alamat','kd bank','kpp_penerima'])\n",
    "data_mpnall = data_mpnall[['admin', 'npwp', 'kpp', 'cabang', 'nama', 'kdmap', 'kdbayar', 'masa',\n",
    "       'tahun', 'tanggalbayar', 'bulanbayar', 'tahunbayar', 'datebayar',\n",
    "       'nominal', 'ntpn', 'bank', 'nosk', 'nospm', 'tipe', 'source', 'extra',\n",
    "       'billing', 'nop', 'pembuat', 'ket', 'masa2']]"
   ]
  },
  {
   "cell_type": "markdown",
   "metadata": {},
   "source": [
    "#### SPM"
   ]
  },
  {
   "cell_type": "code",
   "execution_count": 8,
   "metadata": {},
   "outputs": [],
   "source": [
    "kpp = ['001','002','003','004','005','006','007','008','009','097']\n",
    "spm_files = 'downloaded\\spm'\n",
    "spm_files = sorted_files(spm_files)"
   ]
  },
  {
   "cell_type": "code",
   "execution_count": 15,
   "metadata": {},
   "outputs": [],
   "source": [
    "spm_dir = os.path.join('D:\\PROJECTS\\Appportal\\downloaded','spm')\n"
   ]
  },
  {
   "cell_type": "code",
   "execution_count": 42,
   "metadata": {},
   "outputs": [],
   "source": [
    "csv_files = glob.glob(os.path.join(download_path,'*.csv'))\n",
    "today_csv_files = []\n",
    "for csv_file in csv_files:\n",
    "    stat = os.stat(csv_file)\n",
    "    file_date = datetime.date.fromtimestamp(stat.st_ctime)\n",
    "    today_csv_files.append(csv_file)\n",
    "sorted_files = sorted(\n",
    "    today_csv_files, key=os.path.getctime, reverse=False)"
   ]
  },
  {
   "cell_type": "code",
   "execution_count": 53,
   "metadata": {},
   "outputs": [
    {
     "ename": "KeyboardInterrupt",
     "evalue": "",
     "output_type": "error",
     "traceback": [
      "\u001b[1;31m---------------------------------------------------------------------------\u001b[0m",
      "\u001b[1;31mKeyboardInterrupt\u001b[0m                         Traceback (most recent call last)",
      "Cell \u001b[1;32mIn[53], line 12\u001b[0m\n\u001b[0;32m     10\u001b[0m num_files \u001b[39m=\u001b[39m \u001b[39mlen\u001b[39m(kpp) \u001b[39m*\u001b[39m \u001b[39mlen\u001b[39m(bulan)  \u001b[39m# per va luta\u001b[39;00m\n\u001b[0;32m     11\u001b[0m \u001b[39mwhile\u001b[39;00m \u001b[39mlen\u001b[39m(spm_sorted) \u001b[39m<\u001b[39m num_files:\n\u001b[1;32m---> 12\u001b[0m     time\u001b[39m.\u001b[39;49msleep(\u001b[39m10\u001b[39;49m)\n\u001b[0;32m     13\u001b[0m     spm_sorted \u001b[39m=\u001b[39m sorted_files(download_path)\n",
      "\u001b[1;31mKeyboardInterrupt\u001b[0m: "
     ]
    }
   ],
   "source": [
    "kpp = [\"001\", \"002\", \"003\", \"004\", \"005\", \"006\", \"007\", \"008\", \"009\", \"097\"]\n",
    "tahun = \"2023\"\n",
    "jns_pajak = \"411100000\"\n",
    "tgl_awal = \"01\"\n",
    "tgl_akhir = \"31\"\n",
    "bulan = generate_month_list()\n",
    "# bulan = ['01']\n",
    "valuta = [\"1\", \"2\", \"3\"]\n",
    "spm_sorted = sorted_files(download_path)\n",
    "num_files = len(kpp) * len(bulan)  # per va luta\n",
    "while len(spm_sorted) < num_files:\n",
    "    time.sleep(10)\n",
    "    spm_sorted = sorted_files(download_path)\n"
   ]
  },
  {
   "cell_type": "code",
   "execution_count": 37,
   "metadata": {},
   "outputs": [
    {
     "ename": "IndentationError",
     "evalue": "unexpected indent (2079215990.py, line 2)",
     "output_type": "error",
     "traceback": [
      "\u001b[1;36m  Cell \u001b[1;32mIn[37], line 2\u001b[1;36m\u001b[0m\n\u001b[1;33m    today_csv_files = []\u001b[0m\n\u001b[1;37m    ^\u001b[0m\n\u001b[1;31mIndentationError\u001b[0m\u001b[1;31m:\u001b[0m unexpected indent\n"
     ]
    }
   ],
   "source": [
    "csv_files = glob.glob(os.path.join(source_dir, \"*.csv\"))\n",
    "    today_csv_files = []\n",
    "for csv_file in csv_files:\n",
    "    stat = os.stat(csv_file)\n",
    "    file_date = datetime.date.fromtimestamp(stat.st_ctime)\n",
    "    if file_date == today:\n",
    "        today_csv_files.append(csv_file)\n",
    "sorted_files = sorted(today_csv_files, key=os.path.getctime, reverse=False)"
   ]
  },
  {
   "cell_type": "code",
   "execution_count": 25,
   "metadata": {},
   "outputs": [],
   "source": [
    "spm_downloaded = glob.glob(os.path.join(download_path, \"Data_SPM*.csv\"))"
   ]
  },
  {
   "cell_type": "code",
   "execution_count": 54,
   "metadata": {},
   "outputs": [],
   "source": [
    "csv_files = glob.glob(os.path.join(download_path,'*.csv'))"
   ]
  },
  {
   "cell_type": "code",
   "execution_count": 60,
   "metadata": {},
   "outputs": [],
   "source": [
    "x = csv_files[0].split(\"\\\\\")\n",
    "y = '\\\\'.join(a for a in x[:-1])"
   ]
  },
  {
   "cell_type": "code",
   "execution_count": 61,
   "metadata": {},
   "outputs": [
    {
     "data": {
      "text/plain": [
       "'C:\\\\Users\\\\810202558\\\\Downloads'"
      ]
     },
     "execution_count": 61,
     "metadata": {},
     "output_type": "execute_result"
    }
   ],
   "source": [
    "y"
   ]
  },
  {
   "cell_type": "code",
   "execution_count": null,
   "metadata": {},
   "outputs": [],
   "source": []
  }
 ],
 "metadata": {
  "kernelspec": {
   "display_name": "base",
   "language": "python",
   "name": "python3"
  },
  "language_info": {
   "codemirror_mode": {
    "name": "ipython",
    "version": 3
   },
   "file_extension": ".py",
   "mimetype": "text/x-python",
   "name": "python",
   "nbconvert_exporter": "python",
   "pygments_lexer": "ipython3",
   "version": "3.10.9"
  },
  "orig_nbformat": 4
 },
 "nbformat": 4,
 "nbformat_minor": 2
}
